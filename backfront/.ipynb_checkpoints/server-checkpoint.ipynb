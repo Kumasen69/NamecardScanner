{
 "cells": [
  {
   "cell_type": "code",
   "execution_count": 1,
   "id": "48e43bcc",
   "metadata": {},
   "outputs": [
    {
     "data": {
      "text/plain": [
       "0"
      ]
     },
     "execution_count": 1,
     "metadata": {},
     "output_type": "execute_result"
    }
   ],
   "source": [
    "import cv2\n",
    "import numpy as np\n",
    "import matplotlib.pyplot as plt\n",
    "\n",
    "def ImageToTrimImage():#画像ファイルをトリム画像にする\n",
    "    imageFilePath =\"image/namecard.png\"\n",
    "    img = cv2.imread(imageFilePath, cv2.IMREAD_COLOR)\n",
    "    return 0\n",
    "\n",
    "\n",
    "ImageToTrimImage()"
   ]
  },
  {
   "cell_type": "code",
   "execution_count": 2,
   "id": "d3feee35",
   "metadata": {},
   "outputs": [],
   "source": [
    "imageFilePath =\"image/namecard.png\""
   ]
  },
  {
   "cell_type": "code",
   "execution_count": 11,
   "id": "3ceefebd",
   "metadata": {},
   "outputs": [],
   "source": [
    "#デバグ\n",
    "\n",
    "img = cv2.imread(imageFilePath, cv2.IMREAD_COLOR)\n",
    "cv2.imshow(\"image.png\",img)\n",
    "cv2.waitKey(0)\n",
    "cv2.destroyAllWindows()"
   ]
  },
  {
   "cell_type": "code",
   "execution_count": null,
   "id": "e4a70a10",
   "metadata": {},
   "outputs": [],
   "source": []
  }
 ],
 "metadata": {
  "kernelspec": {
   "display_name": "Python 3 (ipykernel)",
   "language": "python",
   "name": "python3"
  },
  "language_info": {
   "codemirror_mode": {
    "name": "ipython",
    "version": 3
   },
   "file_extension": ".py",
   "mimetype": "text/x-python",
   "name": "python",
   "nbconvert_exporter": "python",
   "pygments_lexer": "ipython3",
   "version": "3.9.7"
  }
 },
 "nbformat": 4,
 "nbformat_minor": 5
}
