{
 "cells": [
  {
   "cell_type": "code",
   "execution_count": null,
   "id": "d2293246",
   "metadata": {},
   "outputs": [
    {
     "name": "stdout",
     "output_type": "stream",
     "text": [
      "只今画像ファイルを確認いたします。\n",
      "画像ファイルを確認成功いたしました、只今サーバーにお送りいたします。\n",
      "ファイルの転送成功しました。\n",
      "アプリを続き使いますか？\n"
     ]
    }
   ],
   "source": [
    "import os\n",
    "import shutil\n",
    "\n",
    "imageFilePath =\"image/namecard.png\" #名刺のパスは固定されている状態\n",
    "serverImageFilePath=\"../backfront/image\"\n",
    "\n",
    "while True:\n",
    "    print(\"只今画像ファイルを確認いたします。\")\n",
    "    if(os.path.exists(imageFilePath)):\n",
    "        print(\"画像ファイルを確認成功いたしました、只今サーバーにお送りいたします。\")\n",
    "        #これ以降はファイルをサーバーに送るコードです\n",
    "        shutil.copy(imageFilePath, serverImageFilePath)\n",
    "        if(os.path.exists(serverImageFilePath+\"/namecard.png\")):\n",
    "            print(\"ファイルの転送成功しました。\")\n",
    "        else:\n",
    "            print(\"なんらかの理由で失敗しました。\")\n",
    "    else:\n",
    "        print(\"画像ファイルを確認出来かねます。もう一度確認してください。\")\n",
    "    \n",
    "    print(\"アプリを続き使いますか？\")\n",
    "    if(input()==\"N\"):\n",
    "        break\n",
    "    \n",
    "    "
   ]
  },
  {
   "cell_type": "code",
   "execution_count": null,
   "id": "cf665b68",
   "metadata": {},
   "outputs": [],
   "source": []
  }
 ],
 "metadata": {
  "kernelspec": {
   "display_name": "Python 3 (ipykernel)",
   "language": "python",
   "name": "python3"
  },
  "language_info": {
   "codemirror_mode": {
    "name": "ipython",
    "version": 3
   },
   "file_extension": ".py",
   "mimetype": "text/x-python",
   "name": "python",
   "nbconvert_exporter": "python",
   "pygments_lexer": "ipython3",
   "version": "3.9.7"
  }
 },
 "nbformat": 4,
 "nbformat_minor": 5
}
